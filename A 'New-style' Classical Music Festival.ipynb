{
    "cells": [
        {
            "cell_type": "markdown",
            "metadata": {
                "collapsed": true
            },
            "source": "# Capstone Project - A 'New-style' Classical Music Festival\n### Applied Data Science Capstone by Coursera/IBM"
        },
        {
            "cell_type": "markdown",
            "metadata": {},
            "source": "## Table of contents\n1. [Introduction: Business Problem](#intro)\n2. [Data](#data)\n"
        },
        {
            "cell_type": "markdown",
            "metadata": {},
            "source": "### 1. Introduction: Business Problem <a name=\"intro\"></a>"
        },
        {
            "cell_type": "markdown",
            "metadata": {},
            "source": "The benefits of listening to classical music are endless. It can improve your mood, lower stress levels, increase productivity, spark creativity, and studies have shown it can even boost your brain power by improving memory. However, classical music has a diversity problem. It is far too white and far too inaccessible to a lot of people. More needs to be done to take classical music out of the traditional concert hall and brought to a much wider range of communities, to make it more accessible to all, and to break down the barriers and stereotypes surrounding the genre.\n\nThrough combining demographic data collected by Greater London Authority in 2016, and Foursquare location data, this project aims to highlight potential areas and venues in London that could host a \u2018New-style\u2019 Classical Music Festival. It should appeal to any philanthropist wanting to increase the outreach of classical music.\n"
        },
        {
            "cell_type": "markdown",
            "metadata": {},
            "source": "### 2. Data <a name=\"data\"></a>"
        },
        {
            "cell_type": "markdown",
            "metadata": {},
            "source": "- Kaggle data set on London Boroughs from study conducted by GLA in 2016 which can be found [here](https://www.kaggle.com/marshald/london-boroughs).\n\n- Geopy library to get the latitude and longitude values of London Boroughs\n\n- Foursquare API to get location and venue data for potential concert venues\n\n\n\nCleaned and formatted data frame head of Kaggle data set:\n"
        },
        {
            "cell_type": "markdown",
            "metadata": {},
            "source": "![alt text](https://github.com/LLBaldwin/Coursera_Capstone/blob/master/df.png?raw=true 'London Boroughs Data Frame')\n"
        }
    ],
    "metadata": {
        "kernelspec": {
            "display_name": "Python 3.6",
            "language": "python",
            "name": "python3"
        },
        "language_info": {
            "codemirror_mode": {
                "name": "ipython",
                "version": 3
            },
            "file_extension": ".py",
            "mimetype": "text/x-python",
            "name": "python",
            "nbconvert_exporter": "python",
            "pygments_lexer": "ipython3",
            "version": "3.6.9"
        }
    },
    "nbformat": 4,
    "nbformat_minor": 1
}